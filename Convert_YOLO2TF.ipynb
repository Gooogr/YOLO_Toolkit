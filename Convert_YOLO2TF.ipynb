{
  "nbformat": 4,
  "nbformat_minor": 0,
  "metadata": {
    "colab": {
      "name": "Convert_YOLO2TF.ipynb",
      "provenance": [],
      "collapsed_sections": [],
      "toc_visible": true,
      "authorship_tag": "ABX9TyN7KvgQXjz5jFVOVp2H3cAx",
      "include_colab_link": true
    },
    "kernelspec": {
      "name": "python3",
      "display_name": "Python 3"
    },
    "accelerator": "GPU"
  },
  "cells": [
    {
      "cell_type": "markdown",
      "metadata": {
        "id": "view-in-github",
        "colab_type": "text"
      },
      "source": [
        "<a href=\"https://colab.research.google.com/github/Gooogr/YOLO_Toolkit/blob/master/Convert_YOLO2TF.ipynb\" target=\"_parent\"><img src=\"https://colab.research.google.com/assets/colab-badge.svg\" alt=\"Open In Colab\"/></a>"
      ]
    },
    {
      "cell_type": "code",
      "metadata": {
        "id": "pWHZm6klvxyh",
        "colab_type": "code",
        "colab": {}
      },
      "source": [
        "import numpy as np\n",
        "import fileinput\n",
        "import urllib.request\n",
        "import cv2\n",
        "from google.colab.patches import cv2_imshow"
      ],
      "execution_count": 38,
      "outputs": []
    },
    {
      "cell_type": "code",
      "metadata": {
        "id": "E-xxOoufv_2V",
        "colab_type": "code",
        "colab": {
          "base_uri": "https://localhost:8080/",
          "height": 364
        },
        "outputId": "ae26b860-43f1-4e20-ac84-394991867aa9"
      },
      "source": [
        "# Enable GPU\n",
        "# Check what we get: K80, P100, K4 or T4.\n",
        "! nvidia-smi"
      ],
      "execution_count": 2,
      "outputs": [
        {
          "output_type": "stream",
          "text": [
            "Thu Sep 10 12:16:12 2020       \n",
            "+-----------------------------------------------------------------------------+\n",
            "| NVIDIA-SMI 450.66       Driver Version: 418.67       CUDA Version: 10.1     |\n",
            "|-------------------------------+----------------------+----------------------+\n",
            "| GPU  Name        Persistence-M| Bus-Id        Disp.A | Volatile Uncorr. ECC |\n",
            "| Fan  Temp  Perf  Pwr:Usage/Cap|         Memory-Usage | GPU-Util  Compute M. |\n",
            "|                               |                      |               MIG M. |\n",
            "|===============================+======================+======================|\n",
            "|   0  Tesla K80           Off  | 00000000:00:04.0 Off |                    0 |\n",
            "| N/A   32C    P8    28W / 149W |      0MiB / 11441MiB |      0%      Default |\n",
            "|                               |                      |                 ERR! |\n",
            "+-------------------------------+----------------------+----------------------+\n",
            "                                                                               \n",
            "+-----------------------------------------------------------------------------+\n",
            "| Processes:                                                                  |\n",
            "|  GPU   GI   CI        PID   Type   Process name                  GPU Memory |\n",
            "|        ID   ID                                                   Usage      |\n",
            "|=============================================================================|\n",
            "|  No running processes found                                                 |\n",
            "+-----------------------------------------------------------------------------+\n"
          ],
          "name": "stdout"
        }
      ]
    },
    {
      "cell_type": "code",
      "metadata": {
        "id": "iigYXK17wtrQ",
        "colab_type": "code",
        "colab": {}
      },
      "source": [
        "IS_TINY = True                               # Use YOLOv4 or Tiny YOLOv4 \n",
        "WEIGHT_PATH = None                           # Specify url path to your weights. \n",
        "                                             # By default - example weights from project repository\n",
        "CLASS_NAMES = ['Human face', 'Human hand']   # Specify your Imagenetv4 labels. By default - example \n",
        "                                             # labels corresponded to example weights \n",
        "INPUT_SIZE = None                            # Specify, if you use custom image size during the training.\n",
        "                                             # By default - 416 for Tiny YOLO and 608 for YOLO                                           "
      ],
      "execution_count": 28,
      "outputs": []
    },
    {
      "cell_type": "markdown",
      "metadata": {
        "id": "PjM8yokMwdKP",
        "colab_type": "text"
      },
      "source": [
        "### Prepare converter and files"
      ]
    },
    {
      "cell_type": "code",
      "metadata": {
        "id": "zfO4TRlcLdkO",
        "colab_type": "code",
        "colab": {
          "base_uri": "https://localhost:8080/",
          "height": 104
        },
        "outputId": "03e5dde3-1677-452a-ee94-83e4012cf5dc"
      },
      "source": [
        "# Clone converter\n",
        "! git clone https://github.com/hunglc007/tensorflow-yolov4-tflite"
      ],
      "execution_count": 4,
      "outputs": [
        {
          "output_type": "stream",
          "text": [
            "Cloning into 'tensorflow-yolov4-tflite'...\n",
            "remote: Enumerating objects: 780, done.\u001b[K\n",
            "remote: Total 780 (delta 0), reused 0 (delta 0), pack-reused 780\u001b[K\n",
            "Receiving objects: 100% (780/780), 197.64 MiB | 23.53 MiB/s, done.\n",
            "Resolving deltas: 100% (371/371), done.\n"
          ],
          "name": "stdout"
        }
      ]
    },
    {
      "cell_type": "markdown",
      "metadata": {
        "id": "jygcfEVaMFKV",
        "colab_type": "text"
      },
      "source": [
        "https://github.com/hunglc007/tensorflow-yolov4-tflite -\n",
        "\n",
        "https://www.youtube.com/watch?v=iPwepy-SVCQ\n",
        "https://github.com/theAIGuysCode/tensorflow-yolov4-tflite"
      ]
    },
    {
      "cell_type": "markdown",
      "metadata": {
        "id": "oGNdyquX9kxQ",
        "colab_type": "text"
      },
      "source": [
        "Download pre-trained YOLO weights"
      ]
    },
    {
      "cell_type": "code",
      "metadata": {
        "id": "lahJZ5uW8--g",
        "colab_type": "code",
        "colab": {}
      },
      "source": [
        "if WEIGHT_PATH is None:\n",
        "    WEIGHT_PATH = 'https://github.com/Gooogr/YOLO_Toolkit/raw/master/sample_tiny_weights/yolov4-tiny-sample.weights'"
      ],
      "execution_count": 5,
      "outputs": []
    },
    {
      "cell_type": "code",
      "metadata": {
        "id": "80wPVP-Z8g8d",
        "colab_type": "code",
        "colab": {
          "base_uri": "https://localhost:8080/",
          "height": 315
        },
        "outputId": "8f2a6a61-c6cb-4f4f-cf9a-2da52631da97"
      },
      "source": [
        "! wget -O /content/tensorflow-yolov4-tflite/data/custom_yolo.weights $WEIGHT_PATH "
      ],
      "execution_count": 6,
      "outputs": [
        {
          "output_type": "stream",
          "text": [
            "--2020-09-10 12:20:21--  https://github.com/Gooogr/YOLO_Toolkit/raw/master/sample_tiny_weights/yolov4-tiny-sample.weights\n",
            "Resolving github.com (github.com)... 140.82.121.3\n",
            "Connecting to github.com (github.com)|140.82.121.3|:443... connected.\n",
            "HTTP request sent, awaiting response... 302 Found\n",
            "Location: https://raw.githubusercontent.com/Gooogr/YOLO_Toolkit/master/sample_tiny_weights/yolov4-tiny-sample.weights [following]\n",
            "--2020-09-10 12:20:21--  https://raw.githubusercontent.com/Gooogr/YOLO_Toolkit/master/sample_tiny_weights/yolov4-tiny-sample.weights\n",
            "Resolving raw.githubusercontent.com (raw.githubusercontent.com)... 151.101.0.133, 151.101.64.133, 151.101.128.133, ...\n",
            "Connecting to raw.githubusercontent.com (raw.githubusercontent.com)|151.101.0.133|:443... connected.\n",
            "HTTP request sent, awaiting response... 200 OK\n",
            "Length: 23530556 (22M) [application/octet-stream]\n",
            "Saving to: ‘/content/tensorflow-yolov4-tflite/data/custom_yolo.weights’\n",
            "\n",
            "/content/tensorflow 100%[===================>]  22.44M  74.5MB/s    in 0.3s    \n",
            "\n",
            "2020-09-10 12:20:23 (74.5 MB/s) - ‘/content/tensorflow-yolov4-tflite/data/custom_yolo.weights’ saved [23530556/23530556]\n",
            "\n"
          ],
          "name": "stdout"
        }
      ]
    },
    {
      "cell_type": "markdown",
      "metadata": {
        "id": "HLddfU439ifs",
        "colab_type": "text"
      },
      "source": [
        "Create ```yolo.names``` file"
      ]
    },
    {
      "cell_type": "code",
      "metadata": {
        "id": "8QjD1H7J9wla",
        "colab_type": "code",
        "colab": {}
      },
      "source": [
        "with open('/content/tensorflow-yolov4-tflite/data/classes/custom.names', 'w') as f:\n",
        "    for item in CLASS_NAMES:\n",
        "        f.write(\"%s\\n\" % item)"
      ],
      "execution_count": 8,
      "outputs": []
    },
    {
      "cell_type": "code",
      "metadata": {
        "id": "4WLBho7Y-K91",
        "colab_type": "code",
        "colab": {
          "base_uri": "https://localhost:8080/",
          "height": 52
        },
        "outputId": "bab5036e-8724-4a9d-af5e-b310bf77a501"
      },
      "source": [
        "! cat /content/tensorflow-yolov4-tflite/data/classes/custom.names"
      ],
      "execution_count": 9,
      "outputs": [
        {
          "output_type": "stream",
          "text": [
            "Human face\n",
            "Human hand\n"
          ],
          "name": "stdout"
        }
      ]
    },
    {
      "cell_type": "markdown",
      "metadata": {
        "id": "PzlFUA3t-Sa6",
        "colab_type": "text"
      },
      "source": [
        "Add new ```custom.names``` filepath to the ```core/config.py``` file"
      ]
    },
    {
      "cell_type": "code",
      "metadata": {
        "id": "pb71mVo9Cog6",
        "colab_type": "code",
        "colab": {}
      },
      "source": [
        "#From https://stackoverflow.com/a/20593644/11664121\n",
        "\n",
        "filename = '/content/tensorflow-yolov4-tflite/core/config.py'\n",
        "text_to_search = 'coco.names'\n",
        "replacement_text = 'custom.names'\n",
        "\n",
        "with fileinput.FileInput(filename, inplace=True, backup='.bak') as file:\n",
        "    for line in file:\n",
        "        print(line.replace(text_to_search, replacement_text), end='')"
      ],
      "execution_count": 23,
      "outputs": []
    },
    {
      "cell_type": "markdown",
      "metadata": {
        "id": "cm_pbOeKE77q",
        "colab_type": "text"
      },
      "source": [
        "### Convertation"
      ]
    },
    {
      "cell_type": "code",
      "metadata": {
        "id": "31b1WOJ_e3Oe",
        "colab_type": "code",
        "colab": {
          "base_uri": "https://localhost:8080/",
          "height": 34
        },
        "outputId": "f865bc51-e527-4054-b235-24b67855c6eb"
      },
      "source": [
        "% cd /content/tensorflow-yolov4-tflite"
      ],
      "execution_count": 24,
      "outputs": [
        {
          "output_type": "stream",
          "text": [
            "/content/tensorflow-yolov4-tflite\n"
          ],
          "name": "stdout"
        }
      ]
    },
    {
      "cell_type": "code",
      "metadata": {
        "id": "ynyitAoFEgDD",
        "colab_type": "code",
        "colab": {}
      },
      "source": [
        "if INPUT_SIZE is None:\n",
        "    if IS_TINY:\n",
        "        INPUT_SIZE = 416\n",
        "    else:\n",
        "        INPUT_SIZE = 608"
      ],
      "execution_count": 29,
      "outputs": []
    },
    {
      "cell_type": "markdown",
      "metadata": {
        "id": "ieEgnbBWFdae",
        "colab_type": "text"
      },
      "source": [
        "Convert Darknet model into TensorFlow .pb format"
      ]
    },
    {
      "cell_type": "code",
      "metadata": {
        "id": "Anu4ffj-elpa",
        "colab_type": "code",
        "colab": {}
      },
      "source": [
        "%%capture\n",
        "if IS_TINY:\n",
        "    ! python save_model.py \\\n",
        "    --weights ./data/custom_yolo.weights \\\n",
        "    --output ./checkpoints \\\n",
        "    --input_size $INPUT_SIZE \\\n",
        "    --model yolov4 --tiny\n",
        "else:\n",
        "    ! python save_model.py \\\n",
        "    --weights ./data/custom_yolo.weights \\\n",
        "    --output ./checkpoints \\\n",
        "    --input_size $INPUT_SIZE \\\n",
        "    --model yolov4 "
      ],
      "execution_count": 30,
      "outputs": []
    },
    {
      "cell_type": "code",
      "metadata": {
        "id": "Idq0hCgovIYQ",
        "colab_type": "code",
        "colab": {
          "base_uri": "https://localhost:8080/",
          "height": 34
        },
        "outputId": "2c9f00f0-ee87-4d8e-efc8-fc46eac50402"
      },
      "source": [
        "! ls /content/tensorflow-yolov4-tflite/checkpoints"
      ],
      "execution_count": 31,
      "outputs": [
        {
          "output_type": "stream",
          "text": [
            "assets\tsaved_model.pb\tvariables\n"
          ],
          "name": "stdout"
        }
      ]
    },
    {
      "cell_type": "markdown",
      "metadata": {
        "id": "2px8kLLwD2GX",
        "colab_type": "text"
      },
      "source": [
        "Check convertation"
      ]
    },
    {
      "cell_type": "code",
      "metadata": {
        "id": "L5x9nQBYFwea",
        "colab_type": "code",
        "colab": {}
      },
      "source": [
        "def url_to_image(url, save_path=None):\n",
        "    '''\n",
        "    Download the image by url-link, convert it to a NumPy array. Encode it into OpenCV format.\n",
        "    input:\n",
        "        url - direct url link to image \n",
        "    output:\n",
        "        OpenCV image.\n",
        "    '''\n",
        "    resp = urllib.request.urlopen(url)\n",
        "    image = np.asarray(bytearray(resp.read()), dtype=\"uint8\")\n",
        "\n",
        "    image = cv2.imdecode(image, cv2.IMREAD_COLOR)\n",
        "    if save_path is not None:\n",
        "        cv2.imwrite(save_path, image)\n",
        "    else:\n",
        "        return image"
      ],
      "execution_count": 39,
      "outputs": []
    },
    {
      "cell_type": "code",
      "metadata": {
        "id": "Saaeni4NGNQV",
        "colab_type": "code",
        "colab": {}
      },
      "source": [
        "group_of_people = 'https://encrypted-tbn0.gstatic.com/images?q=tbn%3AANd9GcTpvoS_uA21r_FEhBBiRoBP1TBeu9Llrjdjdg&usqp=CAU'"
      ],
      "execution_count": 40,
      "outputs": []
    },
    {
      "cell_type": "code",
      "metadata": {
        "id": "pdPQ_0oHF6xI",
        "colab_type": "code",
        "colab": {}
      },
      "source": [
        "url_to_image(group_of_people, save_path='/content/tensorflow-yolov4-tflite/data/sample_image.jpg')"
      ],
      "execution_count": 41,
      "outputs": []
    },
    {
      "cell_type": "code",
      "metadata": {
        "id": "0HbSdLmxGVkS",
        "colab_type": "code",
        "colab": {}
      },
      "source": [
        "! python detect.py --weights ./checkpoints --size $INPUT_SIZE \\\n",
        "--model yolov4 \\\n",
        "--image ./data/sample_image.jpg  \\\n",
        "--tiny"
      ],
      "execution_count": null,
      "outputs": []
    },
    {
      "cell_type": "code",
      "metadata": {
        "id": "EoBR2yZBJJ9Q",
        "colab_type": "code",
        "colab": {}
      },
      "source": [
        "# predict_sample()"
      ],
      "execution_count": null,
      "outputs": []
    },
    {
      "cell_type": "code",
      "metadata": {
        "id": "9NArhulzIDMW",
        "colab_type": "code",
        "colab": {
          "base_uri": "https://localhost:8080/",
          "height": 209
        },
        "outputId": "290c5c4a-c24d-454c-9be9-11216844d0c1"
      },
      "source": [
        "result_img = cv2.imread('/content/tensorflow-yolov4-tflite/result.png')\n",
        "cv2_imshow(result_img)"
      ],
      "execution_count": 47,
      "outputs": [
        {
          "output_type": "display_data",
          "data": {
            "image/png": "[encoded data removed]",
            "text/plain": [
              "<PIL.Image.Image image mode=RGB size=262x192 at 0x7FE184BEE390>"
            ]
          },
          "metadata": {
            "tags": []
          }
        }
      ]
    },
    {
      "cell_type": "code",
      "metadata": {
        "id": "CqBpDLjbILF_",
        "colab_type": "code",
        "colab": {}
      },
      "source": [
        ""
      ],
      "execution_count": null,
      "outputs": []
    }
  ]
}