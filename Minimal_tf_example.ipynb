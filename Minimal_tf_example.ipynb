{
  "nbformat": 4,
  "nbformat_minor": 0,
  "metadata": {
    "colab": {
      "name": "Minimal_tf_example.ipynb ",
      "provenance": [],
      "collapsed_sections": [],
      "authorship_tag": "ABX9TyNookb/l+tPoLN21GTbFcZF",
      "include_colab_link": true
    },
    "kernelspec": {
      "name": "python3",
      "display_name": "Python 3"
    }
  },
  "cells": [
    {
      "cell_type": "markdown",
      "metadata": {
        "id": "view-in-github",
        "colab_type": "text"
      },
      "source": [
        "<a href=\"https://colab.research.google.com/github/Gooogr/YOLO_Toolkit/blob/master/Minimal_tf_example.ipynb\" target=\"_parent\"><img src=\"https://colab.research.google.com/assets/colab-badge.svg\" alt=\"Open In Colab\"/></a>"
      ]
    },
    {
      "cell_type": "markdown",
      "metadata": {
        "id": "sP0lxxw7mCeO",
        "colab_type": "text"
      },
      "source": [
        "Based on https://github.com/hunglc007/tensorflow-yolov4-tflite"
      ]
    },
    {
      "cell_type": "code",
      "metadata": {
        "id": "1rnnRjIqoki2",
        "colab_type": "code",
        "colab": {
          "base_uri": "https://localhost:8080/",
          "height": 34
        },
        "outputId": "eb2fd1de-23a3-4ba3-a6e5-3cbfecd4f53f"
      },
      "source": [
        "import numpy as np\n",
        "import fileinput\n",
        "import urllib.request\n",
        "\n",
        "import cv2\n",
        "from google.colab.patches import cv2_imshow\n",
        "\n",
        "import tensorflow as tf\n",
        "print('TensorFlow version:', tf.__version__)"
      ],
      "execution_count": 4,
      "outputs": [
        {
          "output_type": "stream",
          "text": [
            "TensorFlow version: 2.3.0\n"
          ],
          "name": "stdout"
        }
      ]
    },
    {
      "cell_type": "code",
      "metadata": {
        "id": "HsNYRcqnohIO",
        "colab_type": "code",
        "colab": {}
      },
      "source": [
        "IS_TINY = True                               # Use YOLOv4 or Tiny YOLOv4 \n",
        "PB_PATH = None                               # Specify url path to your .pb weights from converter. \n",
        "                                             # By default - example weights from project repository\n",
        "CLASS_NAMES = ['Human face', 'Human hand']   # Specify your Imagenetv4 labels. By default - example \n",
        "                                             # labels corresponded to example weights \n",
        "INPUT_SIZE = None                            # Specify, if you use custom image size during the training.\n",
        "                                             # By default - 416 for Tiny YOLO and 608 for YOLO"
      ],
      "execution_count": 3,
      "outputs": []
    },
    {
      "cell_type": "code",
      "metadata": {
        "id": "aUVj_ccKoGYB",
        "colab_type": "code",
        "colab": {}
      },
      "source": [
        ""
      ],
      "execution_count": null,
      "outputs": []
    }
  ]
}